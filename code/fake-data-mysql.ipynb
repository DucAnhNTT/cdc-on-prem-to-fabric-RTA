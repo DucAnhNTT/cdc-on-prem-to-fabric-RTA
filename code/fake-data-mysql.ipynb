{
 "cells": [
  {
   "cell_type": "code",
   "execution_count": 1,
   "metadata": {},
   "outputs": [
    {
     "name": "stdout",
     "output_type": "stream",
     "text": [
      "Records inserted successfully.\n"
     ]
    }
   ],
   "source": [
    "import mysql.connector\n",
    "import random\n",
    "from datetime import datetime, timedelta\n",
    "\n",
    "# MySQL connection configuration\n",
    "config = {\n",
    "    \"user\": \"ducanh\",\n",
    "    \"password\": \"ducanh\",\n",
    "    \"host\": \"localhost\",\n",
    "    \"database\": \"classicmodels\",\n",
    "}\n",
    "\n",
    "# Connect to MySQL\n",
    "connection = mysql.connector.connect(**config)\n",
    "cursor = connection.cursor()\n",
    "\n",
    "\n",
    "# Function to generate random date\n",
    "def random_date(start, end):\n",
    "    return start + timedelta(days=random.randint(0, int((end - start).days)))\n",
    "\n",
    "\n",
    "try:\n",
    "    for _ in range(10):\n",
    "        try:\n",
    "            productCode = f\"S{random.randint(0, 200)}_{random.randint(100, 312321)}\"\n",
    "            quantityOrdered = random.randint(1, 10)\n",
    "            priceEach = round(random.randint(10, 1000))\n",
    "            orderLineNumber = random.randint(1, 21341)\n",
    "\n",
    "            cursor.execute(\n",
    "                \"\"\"\n",
    "                        INSERT INTO orderdetail (\n",
    "                            orderNumber, productCode, quantityOrdered, priceEach, orderLineNumber\n",
    "                        ) VALUES (\n",
    "                            %s, %s, %s, %s, %s\n",
    "                        )\n",
    "                    \"\"\",\n",
    "                (\n",
    "                    random.randint(100, 999999),\n",
    "                    productCode,\n",
    "                    quantityOrdered,\n",
    "                    priceEach,\n",
    "                    orderLineNumber,\n",
    "                ),\n",
    "            )\n",
    "        except mysql.connector.Error as err:\n",
    "            print(f\"Skipping order detail due to error: {err}\")\n",
    "            continue\n",
    "        except mysql.connector.Error as err:\n",
    "            print(f\"Skipping order due to error: {err}\")\n",
    "            continue  # Generate fake order details\n",
    "\n",
    "    # Commit the transaction\n",
    "    connection.commit()\n",
    "    print(\"Records inserted successfully.\")\n",
    "\n",
    "except mysql.connector.Error as err:\n",
    "    print(f\"Error: {err}\")\n",
    "    connection.rollback()\n",
    "\n",
    "finally:\n",
    "    # Close the cursor and connection\n",
    "    if cursor:\n",
    "        cursor.close()\n",
    "    if connection:\n",
    "        connection.close()"
   ]
  },
  {
   "cell_type": "code",
   "execution_count": null,
   "metadata": {},
   "outputs": [],
   "source": []
  }
 ],
 "metadata": {
  "kernelspec": {
   "display_name": "Python 3",
   "language": "python",
   "name": "python3"
  },
  "language_info": {
   "codemirror_mode": {
    "name": "ipython",
    "version": 3
   },
   "file_extension": ".py",
   "mimetype": "text/x-python",
   "name": "python",
   "nbconvert_exporter": "python",
   "pygments_lexer": "ipython3",
   "version": "3.11.9"
  }
 },
 "nbformat": 4,
 "nbformat_minor": 2
}
