{
 "cells": [
  {
   "cell_type": "code",
   "execution_count": 12,
   "metadata": {},
   "outputs": [],
   "source": [
    "import faker \n",
    "import psycopg2\n",
    "from datetime import datetime\n",
    "import random\n"
   ]
  },
  {
   "cell_type": "code",
   "execution_count": 7,
   "metadata": {},
   "outputs": [],
   "source": [
    "def generate_transaction():\n",
    "    user = fake.simple_profile()\n",
    "\n",
    "    return {\n",
    "        \"transactionId\": fake.uuid4(),\n",
    "        \"userId\": user['username'],\n",
    "        \"timestamp\": datetime.utcnow().timestamp(),\n",
    "        \"amount\": round(random.uniform(10, 1000), 2),\n",
    "        \"currency\": random.choice(['USD', 'GBP']),\n",
    "        'city': fake.city(),\n",
    "        \"country\": fake.country(),\n",
    "        \"merchantName\": fake.company(),\n",
    "        \"paymentMethod\": random.choice(['credit_card', 'debit_card', 'online_transfer']),\n",
    "        \"ipAddress\": fake.ipv4(),\n",
    "        \"voucherCode\": random.choice(['', 'DISCOUNT10', '']),\n",
    "        'affiliateId': fake.uuid4()\n",
    "    }"
   ]
  },
  {
   "cell_type": "code",
   "execution_count": 4,
   "metadata": {},
   "outputs": [],
   "source": [
    "def create_table(conn):\n",
    "    cursor = conn.cursor()\n",
    "\n",
    "    cursor.execute(\n",
    "        \"\"\"\n",
    "        CREATE TABLE IF NOT EXISTS transactions (\n",
    "            transaction_id VARCHAR(255) PRIMARY KEY,\n",
    "            user_id VARCHAR(255),\n",
    "            timestamp TIMESTAMP,\n",
    "            amount DECIMAL,\n",
    "            currency VARCHAR(255),\n",
    "            city VARCHAR(255),\n",
    "            country VARCHAR(255),\n",
    "            merchant_name VARCHAR(255),\n",
    "            payment_method VARCHAR(255),\n",
    "            ip_address VARCHAR(255),\n",
    "            voucher_code VARCHAR(255),\n",
    "            affiliateId VARCHAR(255)\n",
    "        )\n",
    "        \"\"\")\n",
    "\n",
    "    cursor.close()\n",
    "    conn.commit()"
   ]
  },
  {
   "cell_type": "code",
   "execution_count": 14,
   "metadata": {},
   "outputs": [
    {
     "name": "stdout",
     "output_type": "stream",
     "text": [
      "{'transactionId': 'cca4b7b6-8715-489e-9e12-2c358cc00368', 'userId': 'josephgibson', 'timestamp': 1720578873.739535, 'amount': 940.4, 'currency': 'USD', 'city': 'Smithburgh', 'country': 'Oman', 'merchantName': 'Young, Little and Rowland', 'paymentMethod': 'online_transfer', 'ipAddress': '21.219.228.115', 'voucherCode': '', 'affiliateId': 'd294c1d7-d3f6-46dd-86ba-dcff489669b5'}\n"
     ]
    }
   ],
   "source": [
    "fake = faker.Faker()\n",
    "\n",
    "if __name__ == \"__main__\":\n",
    "    conn = psycopg2.connect(\n",
    "        host='localhost',\n",
    "        database='financial_db',\n",
    "        user='postgres',\n",
    "        password='postgres',\n",
    "        port=5432\n",
    "    )\n",
    "\n",
    "    create_table(conn)\n",
    "\n",
    "    transaction = generate_transaction()\n",
    "    cur = conn.cursor()\n",
    "    print(transaction)\n",
    "\n",
    "    cur.execute(\n",
    "        \"\"\"\n",
    "        INSERT INTO transactions(transaction_id, user_id, timestamp, amount, currency, city, country, merchant_name, payment_method, \n",
    "        ip_address, affiliateId, voucher_code)\n",
    "        VALUES (%s, %s,%s,%s,%s,%s,%s,%s,%s,%s,%s,%s)\n",
    "        \"\"\", (transaction[\"transactionId\"], transaction[\"userId\"], datetime.fromtimestamp(transaction[\"timestamp\"]).strftime('%Y-%m-%d %H:%M:%S'),\n",
    "              transaction[\"amount\"], transaction[\"currency\"], transaction[\"city\"], transaction[\"country\"],\n",
    "              transaction[\"merchantName\"], transaction[\"paymentMethod\"], transaction[\"ipAddress\"],\n",
    "              transaction[\"affiliateId\"], transaction[\"voucherCode\"])\n",
    "    )\n",
    "\n",
    "    cur.close()\n",
    "    conn.commit()"
   ]
  }
 ],
 "metadata": {
  "kernelspec": {
   "display_name": "Python 3",
   "language": "python",
   "name": "python3"
  },
  "language_info": {
   "codemirror_mode": {
    "name": "ipython",
    "version": 3
   },
   "file_extension": ".py",
   "mimetype": "text/x-python",
   "name": "python",
   "nbconvert_exporter": "python",
   "pygments_lexer": "ipython3",
   "version": "3.11.2"
  }
 },
 "nbformat": 4,
 "nbformat_minor": 2
}
